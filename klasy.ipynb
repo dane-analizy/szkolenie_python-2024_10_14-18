{
 "cells": [
  {
   "cell_type": "code",
   "execution_count": 11,
   "metadata": {},
   "outputs": [],
   "source": [
    "class Kot:\n",
    "    kolor = \"rudy\"\n",
    "    wiek = 10\n",
    "    "
   ]
  },
  {
   "cell_type": "code",
   "execution_count": 12,
   "metadata": {},
   "outputs": [],
   "source": [
    "k1 = Kot()\n",
    "k2 = Kot()"
   ]
  },
  {
   "cell_type": "code",
   "execution_count": 13,
   "metadata": {},
   "outputs": [
    {
     "data": {
      "text/plain": [
       "<__main__.Kot at 0x21da3199fc0>"
      ]
     },
     "execution_count": 13,
     "metadata": {},
     "output_type": "execute_result"
    }
   ],
   "source": [
    "k1"
   ]
  },
  {
   "cell_type": "code",
   "execution_count": 14,
   "metadata": {},
   "outputs": [
    {
     "data": {
      "text/plain": [
       "<__main__.Kot at 0x21da3172050>"
      ]
     },
     "execution_count": 14,
     "metadata": {},
     "output_type": "execute_result"
    }
   ],
   "source": [
    "k2"
   ]
  },
  {
   "cell_type": "code",
   "execution_count": 15,
   "metadata": {},
   "outputs": [
    {
     "data": {
      "text/plain": [
       "'rudy'"
      ]
     },
     "execution_count": 15,
     "metadata": {},
     "output_type": "execute_result"
    }
   ],
   "source": [
    "k1.kolor"
   ]
  },
  {
   "cell_type": "code",
   "execution_count": 16,
   "metadata": {},
   "outputs": [
    {
     "data": {
      "text/plain": [
       "'rudy'"
      ]
     },
     "execution_count": 16,
     "metadata": {},
     "output_type": "execute_result"
    }
   ],
   "source": [
    "k2.kolor"
   ]
  },
  {
   "cell_type": "code",
   "execution_count": 19,
   "metadata": {},
   "outputs": [],
   "source": [
    "class LepszyKot:\n",
    "    def __init__(self, kolor, wiek):\n",
    "        print(\"jestem konstruktorem klasy LepszyKot\")\n",
    "        self.wiek = wiek\n",
    "        self.kolor = kolor\n",
    "        "
   ]
  },
  {
   "cell_type": "code",
   "execution_count": 21,
   "metadata": {},
   "outputs": [
    {
     "name": "stdout",
     "output_type": "stream",
     "text": [
      "jestem konstruktorem klasy LepszyKot\n"
     ]
    }
   ],
   "source": [
    "lk1 = LepszyKot(\"rudy\", 10)\n"
   ]
  },
  {
   "cell_type": "code",
   "execution_count": 22,
   "metadata": {},
   "outputs": [
    {
     "data": {
      "text/plain": [
       "'rudy'"
      ]
     },
     "execution_count": 22,
     "metadata": {},
     "output_type": "execute_result"
    }
   ],
   "source": [
    "lk1.kolor"
   ]
  },
  {
   "cell_type": "code",
   "execution_count": 23,
   "metadata": {},
   "outputs": [
    {
     "name": "stdout",
     "output_type": "stream",
     "text": [
      "jestem konstruktorem klasy LepszyKot\n"
     ]
    }
   ],
   "source": [
    "lk2 = LepszyKot(\"beżowy\", 6)"
   ]
  },
  {
   "cell_type": "code",
   "execution_count": 25,
   "metadata": {},
   "outputs": [
    {
     "data": {
      "text/plain": [
       "'beżowy'"
      ]
     },
     "execution_count": 25,
     "metadata": {},
     "output_type": "execute_result"
    }
   ],
   "source": [
    "lk2.kolor"
   ]
  },
  {
   "cell_type": "code",
   "execution_count": 26,
   "metadata": {},
   "outputs": [],
   "source": [
    "class JeszczeLepszyKot:\n",
    "    def __init__(self, kolor, wiek):\n",
    "        self.wiek = wiek\n",
    "        self.kolor = kolor\n",
    "\n",
    "    def daj_glos(self):\n",
    "        print(f\"Jestem koloru {self.kolor} i robię MIAU!!! mając {self.wiek} lat\")"
   ]
  },
  {
   "cell_type": "code",
   "execution_count": 27,
   "metadata": {},
   "outputs": [],
   "source": [
    "jlk1= JeszczeLepszyKot(\"czarny\", 5)\n",
    "jlk2 = JeszczeLepszyKot(\"bury\", 8)\n",
    "jlk3 = JeszczeLepszyKot(\"szylkretka\", 3)"
   ]
  },
  {
   "cell_type": "code",
   "execution_count": 28,
   "metadata": {},
   "outputs": [
    {
     "name": "stdout",
     "output_type": "stream",
     "text": [
      "Jestem koloru czarny i robię MIAU!!! mając 5 lat\n"
     ]
    }
   ],
   "source": [
    "jlk1.daj_glos()"
   ]
  },
  {
   "cell_type": "code",
   "execution_count": 29,
   "metadata": {},
   "outputs": [
    {
     "name": "stdout",
     "output_type": "stream",
     "text": [
      "Jestem koloru szylkretka i robię MIAU!!! mając 3 lat\n"
     ]
    }
   ],
   "source": [
    "jlk3.daj_glos()"
   ]
  },
  {
   "cell_type": "code",
   "execution_count": 30,
   "metadata": {},
   "outputs": [],
   "source": [
    "lista_kolorow = ['czerwony', 'zielony', 'niebieski']\n",
    "lista_lat = [1, 2, 3]\n",
    "\n",
    "lista_kotow = []\n",
    "for k,w in zip(lista_kolorow, lista_lat):\n",
    "    tymczasowy_kot = JeszczeLepszyKot(k, w)\n",
    "    lista_kotow.append(tymczasowy_kot)\n",
    "    "
   ]
  },
  {
   "cell_type": "code",
   "execution_count": 31,
   "metadata": {},
   "outputs": [
    {
     "data": {
      "text/plain": [
       "[<__main__.JeszczeLepszyKot at 0x21da31d19c0>,\n",
       " <__main__.JeszczeLepszyKot at 0x21da31d0df0>,\n",
       " <__main__.JeszczeLepszyKot at 0x21da31d2e90>]"
      ]
     },
     "execution_count": 31,
     "metadata": {},
     "output_type": "execute_result"
    }
   ],
   "source": [
    "lista_kotow"
   ]
  },
  {
   "cell_type": "code",
   "execution_count": 32,
   "metadata": {},
   "outputs": [
    {
     "name": "stdout",
     "output_type": "stream",
     "text": [
      "Jestem koloru czerwony i robię MIAU!!! mając 1 lat\n",
      "Jestem koloru zielony i robię MIAU!!! mając 2 lat\n",
      "Jestem koloru niebieski i robię MIAU!!! mając 3 lat\n"
     ]
    }
   ],
   "source": [
    "for kot in lista_kotow:\n",
    "    kot.daj_glos()"
   ]
  },
  {
   "cell_type": "code",
   "execution_count": 33,
   "metadata": {},
   "outputs": [],
   "source": [
    "class Pies:\n",
    "    def __init__(self, kolor, wiek):\n",
    "        self.wiek = wiek\n",
    "        self.kolor = kolor\n",
    "\n",
    "    def daj_glos(self):\n",
    "        print(f\"Jestem psem koloru {self.kolor} i robię HAU HAU! mając {self.wiek} lat\")\n",
    "    \n",
    "    def zmien_kolor(self, nowy_kolor):\n",
    "        self.kolor = nowy_kolor\n",
    "        \n",
    "        \n"
   ]
  },
  {
   "cell_type": "code",
   "execution_count": 34,
   "metadata": {},
   "outputs": [
    {
     "name": "stdout",
     "output_type": "stream",
     "text": [
      "Jestem psem koloru czarny i robię HAU HAU! mając 10 lat\n"
     ]
    }
   ],
   "source": [
    "p = Pies(\"czarny\", 10)\n",
    "p.daj_glos()"
   ]
  },
  {
   "cell_type": "code",
   "execution_count": 35,
   "metadata": {},
   "outputs": [],
   "source": [
    "p.zmien_kolor(\"biały\")"
   ]
  },
  {
   "cell_type": "code",
   "execution_count": 36,
   "metadata": {},
   "outputs": [
    {
     "name": "stdout",
     "output_type": "stream",
     "text": [
      "Jestem psem koloru biały i robię HAU HAU! mając 10 lat\n"
     ]
    }
   ],
   "source": [
    "p.daj_glos()"
   ]
  },
  {
   "cell_type": "code",
   "execution_count": 37,
   "metadata": {},
   "outputs": [
    {
     "name": "stdout",
     "output_type": "stream",
     "text": [
      "<__main__.Pies object at 0x0000021DA451C160>\n"
     ]
    }
   ],
   "source": [
    "print(p)"
   ]
  },
  {
   "cell_type": "code",
   "execution_count": 38,
   "metadata": {},
   "outputs": [],
   "source": [
    "class LepszyPies:\n",
    "    def __init__(self, kolor, wiek):\n",
    "        self.wiek = wiek\n",
    "        self.kolor = kolor\n",
    "\n",
    "    def daj_glos(self):\n",
    "        print(f\"Jestem psem koloru {self.kolor} i robię HAU HAU! mając {self.wiek} lat\")\n",
    "\n",
    "    def zmien_kolor(self, nowy_kolor):\n",
    "        self.kolor = nowy_kolor\n",
    "\n",
    "    def __repr__(self):\n",
    "        return f\"Pies o kolorze {self.kolor} i wieku {self.wiek}\"\n",
    "    "
   ]
  },
  {
   "cell_type": "code",
   "execution_count": 39,
   "metadata": {},
   "outputs": [],
   "source": [
    "lp = LepszyPies(\"beżowy\", 6)"
   ]
  },
  {
   "cell_type": "code",
   "execution_count": 40,
   "metadata": {},
   "outputs": [
    {
     "name": "stdout",
     "output_type": "stream",
     "text": [
      "Pies o kolorze beżowy i wieku 6\n"
     ]
    }
   ],
   "source": [
    "print(lp)"
   ]
  },
  {
   "cell_type": "code",
   "execution_count": 41,
   "metadata": {},
   "outputs": [],
   "source": [
    "lista_kolorow = [\"czerwony\", \"zielony\", \"niebieski\"]\n",
    "lista_lat = [1, 2, 3]\n",
    "\n",
    "lista_psow = []\n",
    "for k, w in zip(lista_kolorow, lista_lat):\n",
    "    tymczasowy_pies = LepszyPies(k, w)\n",
    "    lista_psow.append(tymczasowy_pies)\n"
   ]
  },
  {
   "cell_type": "code",
   "execution_count": 42,
   "metadata": {},
   "outputs": [
    {
     "data": {
      "text/plain": [
       "[Pies o kolorze czerwony i wieku 1,\n",
       " Pies o kolorze zielony i wieku 2,\n",
       " Pies o kolorze niebieski i wieku 3]"
      ]
     },
     "execution_count": 42,
     "metadata": {},
     "output_type": "execute_result"
    }
   ],
   "source": [
    "lista_psow\n"
   ]
  },
  {
   "cell_type": "code",
   "execution_count": 46,
   "metadata": {},
   "outputs": [],
   "source": [
    "class Zawodnik:\n",
    "    def __init__(self, imie, nazwisko, waga, wzrost):\n",
    "        self.imie = imie\n",
    "        self.nazwisko = nazwisko\n",
    "        self.waga = waga\n",
    "        if wzrost > 3:\n",
    "            self.wzrost = wzrost / 100\n",
    "        else:\n",
    "            self.wzrost = wzrost\n",
    "        \n",
    "        self.bmi = self.waga / self.wzrost**2\n",
    "        \n",
    "    def __repr__(self):\n",
    "        return f\"{self.imie} {self.nazwisko}, waga = {self.waga}, wzrost = {self.wzrost} m, bmi = {self.bmi:.2f}\""
   ]
  },
  {
   "cell_type": "code",
   "execution_count": 47,
   "metadata": {},
   "outputs": [
    {
     "data": {
      "text/plain": [
       "Jan Kowalski, waga = 80, wzrost = 1.8 m, bmi = 24.69"
      ]
     },
     "execution_count": 47,
     "metadata": {},
     "output_type": "execute_result"
    }
   ],
   "source": [
    "pan = Zawodnik(\"Jan\", \"Kowalski\", 80, 180)\n",
    "pan"
   ]
  },
  {
   "cell_type": "code",
   "execution_count": 50,
   "metadata": {},
   "outputs": [
    {
     "data": {
      "text/plain": [
       "{'imie': 'Jan',\n",
       " 'nazwisko': 'Kowalski',\n",
       " 'waga': 80,\n",
       " 'wzrost': 1.8,\n",
       " 'bmi': 24.691358024691358}"
      ]
     },
     "execution_count": 50,
     "metadata": {},
     "output_type": "execute_result"
    }
   ],
   "source": [
    "pan.__dict__"
   ]
  },
  {
   "cell_type": "code",
   "execution_count": 51,
   "metadata": {},
   "outputs": [
    {
     "data": {
      "text/plain": [
       "[Pies o kolorze czerwony i wieku 1,\n",
       " Pies o kolorze zielony i wieku 2,\n",
       " Pies o kolorze niebieski i wieku 3]"
      ]
     },
     "execution_count": 51,
     "metadata": {},
     "output_type": "execute_result"
    }
   ],
   "source": [
    "lista_psow\n"
   ]
  },
  {
   "cell_type": "code",
   "execution_count": 52,
   "metadata": {},
   "outputs": [],
   "source": [
    "import json"
   ]
  },
  {
   "cell_type": "code",
   "execution_count": 53,
   "metadata": {},
   "outputs": [],
   "source": [
    "for z in lista_psow:\n",
    "    with open(z.kolor+\".json\", \"w\") as f:\n",
    "        json.dump(z.__dict__, f)"
   ]
  }
 ],
 "metadata": {
  "kernelspec": {
   "display_name": ".venv",
   "language": "python",
   "name": "python3"
  },
  "language_info": {
   "codemirror_mode": {
    "name": "ipython",
    "version": 3
   },
   "file_extension": ".py",
   "mimetype": "text/x-python",
   "name": "python",
   "nbconvert_exporter": "python",
   "pygments_lexer": "ipython3",
   "version": "3.10.7"
  }
 },
 "nbformat": 4,
 "nbformat_minor": 2
}
